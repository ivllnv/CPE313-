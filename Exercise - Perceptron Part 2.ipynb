{
  "nbformat": 4,
  "nbformat_minor": 0,
  "metadata": {
    "colab": {
      "provenance": []
    },
    "kernelspec": {
      "name": "python3",
      "display_name": "Python 3"
    },
    "language_info": {
      "name": "python"
    }
  },
  "cells": [
    {
      "cell_type": "markdown",
      "source": [
        "## Creating a neuron from scratch"
      ],
      "metadata": {
        "id": "PU2JKs58KvNf"
      }
    },
    {
      "cell_type": "code",
      "source": [
        "class Neuron:\n",
        "    def __init__(self, input, weight):\n",
        "        self.input = input\n",
        "        self.weight = weight\n",
        "\n",
        "    def product(self):\n",
        "        return sum(input * weight for input, weight in zip(self.input, self.weight))\n",
        "\n",
        "    def relu(self, value):\n",
        "        if value >= 0:\n",
        "            return value\n",
        "        else:\n",
        "            return 0\n",
        "\n",
        "    def display(self):\n",
        "        print(\"Inputs:\", self.input)\n",
        "        print(\"Weights:\", self.weight)\n",
        "        summation = self.product()\n",
        "        output = self.relu(summation)\n",
        "        print(\"Output:\", output)"
      ],
      "metadata": {
        "id": "jbWEWm5xPzyd"
      },
      "execution_count": 1,
      "outputs": []
    },
    {
      "cell_type": "code",
      "source": [
        "input_1 = [4, -0.8]\n",
        "weight_1 = [1, 0.1]\n",
        "neuron_1 = Neuron(input_1, weight_1)\n",
        "neuron_1.display()"
      ],
      "metadata": {
        "colab": {
          "base_uri": "https://localhost:8080/"
        },
        "id": "BqzKr5DCQbi3",
        "outputId": "a7ce90a2-0206-4fc6-f25e-496a2141e3ec"
      },
      "execution_count": 2,
      "outputs": [
        {
          "output_type": "stream",
          "name": "stdout",
          "text": [
            "Inputs: [4, -0.8]\n",
            "Weights: [1, 0.1]\n",
            "Output: 3.92\n"
          ]
        }
      ]
    },
    {
      "cell_type": "code",
      "source": [
        "input_2 = [-1, -2]\n",
        "weight_2 = [3, -0.5]\n",
        "neuron_2 = Neuron(input_2, weight_2)\n",
        "neuron_2.display()"
      ],
      "metadata": {
        "colab": {
          "base_uri": "https://localhost:8080/"
        },
        "id": "6Jy1T-3VVW9v",
        "outputId": "87f83651-66d5-4444-826d-5b5749b35cb1"
      },
      "execution_count": 3,
      "outputs": [
        {
          "output_type": "stream",
          "name": "stdout",
          "text": [
            "Inputs: [-1, -2]\n",
            "Weights: [3, -0.5]\n",
            "Output: 0\n"
          ]
        }
      ]
    },
    {
      "cell_type": "markdown",
      "source": [
        "## Creating a neural network with 5 neurons"
      ],
      "metadata": {
        "id": "yflOOexBK3Fc"
      }
    },
    {
      "cell_type": "code",
      "source": [
        "import random\n",
        "\n",
        "class Neuron:\n",
        "\n",
        "    def __init__(self, input, weight):\n",
        "        self.input = input\n",
        "        self.weight = weight\n",
        "\n",
        "    def product(self):\n",
        "      return sum(input * weight for input, weight in zip(self.input, self.weight))\n",
        "\n",
        "    def relu(self, value):\n",
        "        if value >= 0:\n",
        "            return value\n",
        "        else:\n",
        "            return 0\n",
        "\n",
        "    def display(self):\n",
        "      summation = self.product()\n",
        "      return self.relu(summation)\n",
        "\n",
        "    def feedforward(self, neuron):\n",
        "      output = self.display()\n",
        "      next_neuron = [output]\n",
        "      weight = random.randint(1,10)\n",
        "      neuron.input = next_neuron\n",
        "      neuron.weight = [weight]"
      ],
      "metadata": {
        "id": "8lMvf4qlI2s5"
      },
      "execution_count": 20,
      "outputs": []
    },
    {
      "cell_type": "code",
      "source": [
        "inputs = [5,6,7,8,9]\n",
        "weights = [1,3,5,7,9]\n",
        "\n",
        "neuron1 = Neuron(inputs, weights)\n",
        "neuron2 = Neuron(inputs, weights)\n",
        "neuron3 = Neuron(inputs, weights)\n",
        "neuron4 = Neuron(inputs, weights)\n",
        "neuron5 = Neuron(inputs, weights)"
      ],
      "metadata": {
        "id": "N5zPeOm8I2zu"
      },
      "execution_count": 21,
      "outputs": []
    },
    {
      "cell_type": "code",
      "source": [
        "new_neuron = Neuron(None,None)"
      ],
      "metadata": {
        "id": "2OlK3M5DibT6"
      },
      "execution_count": 22,
      "outputs": []
    },
    {
      "cell_type": "code",
      "source": [
        "neuron1.feedforward(new_neuron)\n",
        "neuron2.feedforward(new_neuron)\n",
        "neuron3.feedforward(new_neuron)\n",
        "neuron4.feedforward(new_neuron)\n",
        "neuron5.feedforward(new_neuron)"
      ],
      "metadata": {
        "id": "O45JRn3DI23w"
      },
      "execution_count": 23,
      "outputs": []
    },
    {
      "cell_type": "code",
      "source": [
        "print(new_neuron.display())"
      ],
      "metadata": {
        "id": "oBj5w4oFI26o",
        "colab": {
          "base_uri": "https://localhost:8080/"
        },
        "outputId": "57b22c69-3ba0-4ccd-890e-b83aef4c562b"
      },
      "execution_count": 24,
      "outputs": [
        {
          "output_type": "stream",
          "name": "stdout",
          "text": [
            "1755\n"
          ]
        }
      ]
    },
    {
      "cell_type": "markdown",
      "source": [
        "## Trying with manually assigned weights instead of randomizing"
      ],
      "metadata": {
        "id": "S_dwPnyXjWXV"
      }
    },
    {
      "cell_type": "code",
      "source": [
        "import random\n",
        "\n",
        "class Neuron:\n",
        "\n",
        "    def __init__(self, input, weight):\n",
        "        self.input = input\n",
        "        self.weight = weight\n",
        "\n",
        "    def product(self):\n",
        "      return sum(input_val * weight_val for input_val, weight_val in zip(self.input, self.weight))\n",
        "\n",
        "    def relu(self, value):\n",
        "        if value >= 0:\n",
        "            return value\n",
        "        else:\n",
        "            return 0\n",
        "\n",
        "    def display(self):\n",
        "      summation = self.product()\n",
        "      return self.relu(summation)\n",
        "\n",
        "    def feedforward(self, new_neuron, weight):\n",
        "      output = self.display()\n",
        "      next_neuron = [output]\n",
        "      #weight = random.randint(1,10) removing this part of the code\n",
        "      new_neuron.input = next_neuron\n",
        "      new_neuron.weight = weight"
      ],
      "metadata": {
        "id": "rmNR52GUjdM2"
      },
      "execution_count": 75,
      "outputs": []
    },
    {
      "cell_type": "code",
      "source": [
        "inputs = [5,6,7,8,9]\n",
        "weights = [1,3,5,7,9]\n",
        "\n",
        "neuron1 = Neuron(inputs, weights)\n",
        "neuron2 = Neuron(inputs, weights)\n",
        "neuron3 = Neuron(inputs, weights)\n",
        "neuron4 = Neuron(inputs, weights)\n",
        "neuron5 = Neuron(inputs, weights)"
      ],
      "metadata": {
        "id": "aogpCuB5j37c"
      },
      "execution_count": 76,
      "outputs": []
    },
    {
      "cell_type": "code",
      "source": [
        "output1 = neuron1.display()\n",
        "output2 = neuron2.display()\n",
        "output3 = neuron3.display()\n",
        "output4 = neuron4.display()\n",
        "output5 = neuron5.display()"
      ],
      "metadata": {
        "id": "yj1GYU-3mu_a"
      },
      "execution_count": 77,
      "outputs": []
    },
    {
      "cell_type": "code",
      "source": [
        "weights = [13, 4, 2, 19, 18] # assigned weights in excel"
      ],
      "metadata": {
        "id": "0S6IWwqzj8sC"
      },
      "execution_count": 84,
      "outputs": []
    },
    {
      "cell_type": "code",
      "source": [
        "new_neuron = Neuron([output1, output2, output3, output4, output5], weights)\n",
        "output = new_neuron.display()\n",
        "\n",
        "print(\"Output: \", output)"
      ],
      "metadata": {
        "colab": {
          "base_uri": "https://localhost:8080/"
        },
        "id": "I-cnuM3omiC_",
        "outputId": "b3a99d2e-4d07-427a-e6f2-1c75b9fc858e"
      },
      "execution_count": 83,
      "outputs": [
        {
          "output_type": "stream",
          "name": "stdout",
          "text": [
            "Output:  10920\n"
          ]
        }
      ]
    },
    {
      "cell_type": "markdown",
      "source": [
        "## Check with the excel sheet"
      ],
      "metadata": {
        "id": "NLRufc1gqAGT"
      }
    },
    {
      "cell_type": "markdown",
      "source": [
        "![image.png](data:image/png;base64,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)"
      ],
      "metadata": {
        "id": "wlV1OolCU33W"
      }
    }
  ]
}