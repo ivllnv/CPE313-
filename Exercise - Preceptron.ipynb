{
  "nbformat": 4,
  "nbformat_minor": 0,
  "metadata": {
    "colab": {
      "provenance": []
    },
    "kernelspec": {
      "name": "python3",
      "display_name": "Python 3"
    },
    "language_info": {
      "name": "python"
    }
  },
  "cells": [
    {
      "cell_type": "code",
      "source": [
        "class Neuron:\n",
        "    def __init__(self, input, weight):\n",
        "        self.input = input\n",
        "        self.weight = weight\n",
        "\n",
        "    def product(self):\n",
        "        return sum(input * weight for input, weight in zip(self.input, self.weight))\n",
        "\n",
        "    def relu(self, value):\n",
        "        if value >= 0:\n",
        "            return value\n",
        "        else:\n",
        "            return 0\n",
        "\n",
        "    def display(self):\n",
        "        print(\"Inputs:\", self.input)\n",
        "        print(\"Weights:\", self.weight)\n",
        "        summation = self.product()\n",
        "        output = self.relu(summation)\n",
        "        print(\"Output:\", output)"
      ],
      "metadata": {
        "id": "jbWEWm5xPzyd"
      },
      "execution_count": 48,
      "outputs": []
    },
    {
      "cell_type": "code",
      "source": [
        "input_1 = [4, -0.8]\n",
        "weight_1 = [1, 0.1]\n",
        "neuron_1 = Neuron(input_1, weight_1)\n",
        "neuron_1.display()"
      ],
      "metadata": {
        "colab": {
          "base_uri": "https://localhost:8080/"
        },
        "id": "BqzKr5DCQbi3",
        "outputId": "727831af-aa3a-4195-bf36-0a77b1e0f82f"
      },
      "execution_count": 49,
      "outputs": [
        {
          "output_type": "stream",
          "name": "stdout",
          "text": [
            "Inputs: [4, -0.8]\n",
            "Weights: [1, 0.1]\n",
            "Output: 3.92\n"
          ]
        }
      ]
    },
    {
      "cell_type": "code",
      "source": [
        "input_2 = [-1, -2]\n",
        "weight_2 = [3, -0.5]\n",
        "neuron_2 = Neuron(input_2, weight_2)\n",
        "neuron_2.display()"
      ],
      "metadata": {
        "colab": {
          "base_uri": "https://localhost:8080/"
        },
        "id": "6Jy1T-3VVW9v",
        "outputId": "0364578f-74b3-4f56-97a0-b913e550af12"
      },
      "execution_count": 50,
      "outputs": [
        {
          "output_type": "stream",
          "name": "stdout",
          "text": [
            "Inputs: [-1, -2]\n",
            "Weights: [3, -0.5]\n",
            "Output: 0\n"
          ]
        }
      ]
    }
  ]
}